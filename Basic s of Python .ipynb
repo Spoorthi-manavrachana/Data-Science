{
 "cells": [
  {
   "cell_type": "code",
   "execution_count": 1,
   "id": "4ec18107",
   "metadata": {},
   "outputs": [],
   "source": [
    "###Exercise 1: prime Numbers \n",
    "# This program checks whether a given number is a prime number.\n",
    "def is_prime(number):\n",
    "    if number <= 1:\n",
    "        return False\n",
    "    for i in range(2,int(number ** 0.5) +1):\n",
    "        if number %i == 0:\n",
    "            return False\n",
    "        return True"
   ]
  },
  {
   "cell_type": "code",
   "execution_count": 2,
   "id": "b1e2067a",
   "metadata": {},
   "outputs": [
    {
     "name": "stdout",
     "output_type": "stream",
     "text": [
      "Enter a number to check if it's a prime:17\n",
      "17 is a prime.\n"
     ]
    }
   ],
   "source": [
    "#Test the function\n",
    "num = int(input(\"Enter a number to check if it's a prime:\"))\n",
    "if is_prime(num):\n",
    "    print(f\"{num} is a prime.\")\n",
    "else:\n",
    "    print(f\"{num} is not a prime.\")"
   ]
  },
  {
   "cell_type": "code",
   "execution_count": 3,
   "id": "705c0130",
   "metadata": {},
   "outputs": [
    {
     "name": "stdout",
     "output_type": "stream",
     "text": [
      "What is the product : 1 and 9?\n",
      "Your answer:9\n"
     ]
    }
   ],
   "source": [
    "###Exercise 2 : Product of Random Numbers \n",
    "import random\n",
    "\n",
    "# Generate the random numbers \n",
    "num1 = random.randint(1, 10)\n",
    "num2 = random.randint(1, 10)\n",
    "\n",
    "# Calculate their product\n",
    "correct_product = num1 * num2\n",
    "\n",
    "# Ask the user for their answer\n",
    "print(f\"What is the product : {num1} and {num2}?\")\n",
    "user_answer = int(input(\"Your answer:\"))"
   ]
  },
  {
   "cell_type": "code",
   "execution_count": 4,
   "id": "0b5b2341",
   "metadata": {},
   "outputs": [
    {
     "name": "stdout",
     "output_type": "stream",
     "text": [
      "correct well done!\n"
     ]
    }
   ],
   "source": [
    "#check if the user's answer is correct\n",
    "if user_answer == correct_product:\n",
    "    print(\"correct well done!\")\n",
    "else:\n",
    "    print(f\"Inncorrect. The correct answer is :{correct_product}.\")"
   ]
  },
  {
   "cell_type": "code",
   "execution_count": 5,
   "id": "e843c291",
   "metadata": {},
   "outputs": [
    {
     "name": "stdout",
     "output_type": "stream",
     "text": [
      "100^2 = 10000\n",
      "102^2 = 10404\n",
      "104^2 = 10816\n",
      "106^2 = 11236\n",
      "108^2 = 11664\n",
      "110^2 = 12100\n",
      "112^2 = 12544\n",
      "114^2 = 12996\n",
      "116^2 = 13456\n",
      "118^2 = 13924\n",
      "120^2 = 14400\n",
      "122^2 = 14884\n",
      "124^2 = 15376\n",
      "126^2 = 15876\n",
      "128^2 = 16384\n",
      "130^2 = 16900\n",
      "132^2 = 17424\n",
      "134^2 = 17956\n",
      "136^2 = 18496\n",
      "138^2 = 19044\n",
      "140^2 = 19600\n",
      "142^2 = 20164\n",
      "144^2 = 20736\n",
      "146^2 = 21316\n",
      "148^2 = 21904\n",
      "150^2 = 22500\n",
      "152^2 = 23104\n",
      "154^2 = 23716\n",
      "156^2 = 24336\n",
      "158^2 = 24964\n",
      "160^2 = 25600\n",
      "162^2 = 26244\n",
      "164^2 = 26896\n",
      "166^2 = 27556\n",
      "168^2 = 28224\n",
      "170^2 = 28900\n",
      "172^2 = 29584\n",
      "174^2 = 30276\n",
      "176^2 = 30976\n",
      "178^2 = 31684\n",
      "180^2 = 32400\n",
      "182^2 = 33124\n",
      "184^2 = 33856\n",
      "186^2 = 34596\n",
      "188^2 = 35344\n",
      "190^2 = 36100\n",
      "192^2 = 36864\n",
      "194^2 = 37636\n",
      "196^2 = 38416\n",
      "198^2 = 39204\n",
      "200^2 = 40000\n"
     ]
    }
   ],
   "source": [
    "### Exercise 3: Squares of Even Numbers \n",
    "# This script prints the squares of even numbers from 100 to 200.\n",
    "#choice: Even numbers \n",
    "for number in range(100,201):\n",
    "    if number %2 == 0:\n",
    "        print(f\"{number}^2 = {number ** 2}\")"
   ]
  },
  {
   "cell_type": "code",
   "execution_count": 6,
   "id": "c78b629c",
   "metadata": {},
   "outputs": [
    {
     "name": "stdout",
     "output_type": "stream",
     "text": [
      "word counts:\n",
      "'This' = 2\n",
      "'is' = 1\n",
      "'a' = 1\n",
      "'sample' = 1\n",
      "'text.' = 1\n",
      "'text' = 1\n",
      "'will' = 1\n",
      "'be' = 1\n",
      "'used' = 1\n",
      "'to' = 1\n",
      "'demostrate' = 1\n",
      "'the' = 1\n",
      "'word' = 1\n",
      "'counts:' = 1\n"
     ]
    }
   ],
   "source": [
    "## Exercise 4: Word Counter\n",
    "#This program counts the occurrences of each word in the given text.\n",
    "input_text = \"This is a sample text. This text will be used to demostrate the word counts:\"\n",
    "\n",
    "# split the text into words and count them \n",
    "word_counts = {}\n",
    "for word in input_text.split():\n",
    "    word_counts[word] = word_counts.get(word, 0) +1\n",
    "    \n",
    "# Display the results\n",
    "print(\"word counts:\")\n",
    "for word,count in word_counts.items():\n",
    "    print(f\"'{word}' = {count}\")"
   ]
  },
  {
   "cell_type": "code",
   "execution_count": 7,
   "id": "df842bfb",
   "metadata": {},
   "outputs": [],
   "source": [
    "### Exercise 5: Check of Palindrome\n",
    "#This function checks whether a string is palindrome.\n",
    "def is_palindrome(text):\n",
    "    # Normalize the string: remove spaces, punctuation, and convert to lowercase\n",
    "    cleaned_text = ''.join(char.lower() for char in text if char.isalnum())\n",
    "    return cleaned_text == cleaned_text[::-1]"
   ]
  },
  {
   "cell_type": "code",
   "execution_count": 8,
   "id": "80ceb8dc",
   "metadata": {},
   "outputs": [
    {
     "name": "stdout",
     "output_type": "stream",
     "text": [
      "Enter a string to check if it's a palindrome:racecar\n",
      " 'racecar' is a palindrome.\n"
     ]
    }
   ],
   "source": [
    "# Test the function\n",
    "input_text = input(\"Enter a string to check if it's a palindrome:\")\n",
    "if is_palindrome(input_text):\n",
    "    print(f\" '{input_text}' is a palindrome.\")\n",
    "else:\n",
    "    print(f\" '{input_text}' is not a palindrome.\")"
   ]
  },
  {
   "cell_type": "code",
   "execution_count": null,
   "id": "a49cbbb2",
   "metadata": {},
   "outputs": [],
   "source": []
  }
 ],
 "metadata": {
  "kernelspec": {
   "display_name": "Python 3 (ipykernel)",
   "language": "python",
   "name": "python3"
  },
  "language_info": {
   "codemirror_mode": {
    "name": "ipython",
    "version": 3
   },
   "file_extension": ".py",
   "mimetype": "text/x-python",
   "name": "python",
   "nbconvert_exporter": "python",
   "pygments_lexer": "ipython3",
   "version": "3.11.5"
  }
 },
 "nbformat": 4,
 "nbformat_minor": 5
}
