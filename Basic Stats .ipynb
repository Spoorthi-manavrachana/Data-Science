{
 "cells": [
  {
   "cell_type": "code",
   "execution_count": 1,
   "id": "437bcc7f",
   "metadata": {},
   "outputs": [],
   "source": [
    "import numpy as np\n",
    "import scipy.stats as stats"
   ]
  },
  {
   "cell_type": "code",
   "execution_count": 2,
   "id": "326ab1ad",
   "metadata": {},
   "outputs": [
    {
     "data": {
      "text/plain": [
       "[1.13,\n",
       " 1.55,\n",
       " 1.43,\n",
       " 0.92,\n",
       " 1.25,\n",
       " 1.36,\n",
       " 1.32,\n",
       " 0.85,\n",
       " 1.07,\n",
       " 1.48,\n",
       " 1.2,\n",
       " 1.33,\n",
       " 1.18,\n",
       " 1.22,\n",
       " 1.29]"
      ]
     },
     "execution_count": 2,
     "metadata": {},
     "output_type": "execute_result"
    }
   ],
   "source": [
    "#step :-1  Data\n",
    "data =[1.13, 1.55, 1.43, 0.92, 1.25, 1.36, 1.32, 0.85, 1.07, 1.48, 1.20, 1.33, 1.18, 1.22, 1.29]\n",
    "data"
   ]
  },
  {
   "cell_type": "code",
   "execution_count": 3,
   "id": "701896a6",
   "metadata": {},
   "outputs": [],
   "source": [
    "#step 2: - Calculate Sample Mean and Sample Standard Deviation\n",
    "sample_mean = np.mean(data)\n",
    "#ddof =1 for sample standard deviation \n",
    "sample_std = np.std(data,ddof = 1)  \n",
    "#sample size\n",
    "n= len(data)\n",
    "#Degree of freedom \n",
    "df = n-1"
   ]
  },
  {
   "cell_type": "code",
   "execution_count": 4,
   "id": "dc5517f6",
   "metadata": {},
   "outputs": [
    {
     "data": {
      "text/plain": [
       "1.2386666666666666"
      ]
     },
     "execution_count": 4,
     "metadata": {},
     "output_type": "execute_result"
    }
   ],
   "source": [
    "sample_mean"
   ]
  },
  {
   "cell_type": "code",
   "execution_count": 5,
   "id": "181f3efa",
   "metadata": {},
   "outputs": [
    {
     "data": {
      "text/plain": [
       "0.19316412956959936"
      ]
     },
     "execution_count": 5,
     "metadata": {},
     "output_type": "execute_result"
    }
   ],
   "source": [
    "sample_std"
   ]
  },
  {
   "cell_type": "code",
   "execution_count": 6,
   "id": "0d182696",
   "metadata": {},
   "outputs": [
    {
     "data": {
      "text/plain": [
       "2.97684273411266"
      ]
     },
     "execution_count": 6,
     "metadata": {},
     "output_type": "execute_result"
    }
   ],
   "source": [
    "#step 3:- Determine the t-critical value for 99% confidence interval\n",
    "confidence_level = 0.99\n",
    "t_critical = stats.t.ppf((1 +confidence_level) / 2, df)\n",
    "t_critical"
   ]
  },
  {
   "cell_type": "code",
   "execution_count": 7,
   "id": "152b3a07",
   "metadata": {},
   "outputs": [
    {
     "data": {
      "text/plain": [
       "0.1484693282152996"
      ]
     },
     "execution_count": 7,
     "metadata": {},
     "output_type": "execute_result"
    }
   ],
   "source": [
    "#step 4:- Calculate the Margin of Error  \n",
    "margin_of_critical = t_critical*(sample_std / np.sqrt(n))\n",
    "margin_of_critical"
   ]
  },
  {
   "cell_type": "code",
   "execution_count": 8,
   "id": "9325d2eb",
   "metadata": {},
   "outputs": [],
   "source": [
    "#step 5:- Calculate the Confidence Interval\n",
    "lower_bound  = sample_mean - margin_of_critical\n",
    "upper_bound  = sample_mean + margin_of_critical"
   ]
  },
  {
   "cell_type": "code",
   "execution_count": 9,
   "id": "fff29e9e",
   "metadata": {},
   "outputs": [
    {
     "name": "stdout",
     "output_type": "stream",
     "text": [
      "Sample mean: 1.239\n",
      "Sample Standard Deviation : 0.193\n",
      "t-critical: 2.977\n",
      "margin of critical: 0.148\n",
      "99% Confidence Interval :(1.090,1.387)\n"
     ]
    }
   ],
   "source": [
    "#step 6:- Display Results\n",
    "print(\"Sample mean:\",round(sample_mean, 3))\n",
    "print(\"Sample Standard Deviation :\",round(sample_std , 3))\n",
    "print(\"t-critical:\",round(t_critical, 3))\n",
    "print(\"margin of critical:\",round(margin_of_critical, 3))\n",
    "print(\"99% Confidence Interval :({:.3f},{:.3f})\".format(lower_bound ,upper_bound))"
   ]
  },
  {
   "cell_type": "code",
   "execution_count": 10,
   "id": "2cb806d4",
   "metadata": {},
   "outputs": [],
   "source": [
    "## b)"
   ]
  },
  {
   "cell_type": "code",
   "execution_count": 11,
   "id": "8720f4eb",
   "metadata": {},
   "outputs": [],
   "source": [
    "#know population standard deviation\n",
    "population_std = 0.2"
   ]
  },
  {
   "cell_type": "code",
   "execution_count": 12,
   "id": "fcc543a8",
   "metadata": {},
   "outputs": [],
   "source": [
    "#sample size\n",
    "n = len(data)"
   ]
  },
  {
   "cell_type": "code",
   "execution_count": 13,
   "id": "b4429696",
   "metadata": {},
   "outputs": [],
   "source": [
    "#step 2:- calculate sample mean\n",
    "sample_mean = np.mean(data)"
   ]
  },
  {
   "cell_type": "code",
   "execution_count": 14,
   "id": "e75681f1",
   "metadata": {},
   "outputs": [
    {
     "data": {
      "text/plain": [
       "2.5758293035489004"
      ]
     },
     "execution_count": 14,
     "metadata": {},
     "output_type": "execute_result"
    }
   ],
   "source": [
    "#step 3 :- Determine the z-critical valuefor 99% confidence interval\n",
    "confidence_level = 0.99\n",
    "z_critical = stats.norm.ppf((1 + confidence_level) / 2 )   # two-tailed test\n",
    "z_critical"
   ]
  },
  {
   "cell_type": "code",
   "execution_count": 15,
   "id": "0730392a",
   "metadata": {},
   "outputs": [
    {
     "data": {
      "text/plain": [
       "0.13301525327090588"
      ]
     },
     "execution_count": 15,
     "metadata": {},
     "output_type": "execute_result"
    }
   ],
   "source": [
    "#step 4:- calculate the Margin of error\n",
    "margin_of_error = z_critical*(population_std / np.sqrt(n))\n",
    "margin_of_error"
   ]
  },
  {
   "cell_type": "code",
   "execution_count": 16,
   "id": "ae737e8b",
   "metadata": {},
   "outputs": [],
   "source": [
    "#step 5:- Calculate the confidence Interval \n",
    "lower_bound = sample_mean - margin_of_error\n",
    "upper_bound = sample_mean + margin_of_error"
   ]
  },
  {
   "cell_type": "code",
   "execution_count": 17,
   "id": "16220abd",
   "metadata": {},
   "outputs": [
    {
     "name": "stdout",
     "output_type": "stream",
     "text": [
      "Sample mean: 1.239\n",
      "Sample Standard Deviation: 0.2\n",
      "z-critical : 2.576\n",
      "margin of error : 0.133\n",
      "99% Confidence Interval:1.106,1.372)\n"
     ]
    }
   ],
   "source": [
    "#step 6:- Display Results \n",
    "print(\"Sample mean:\",round(sample_mean, 3))\n",
    "print(\"Sample Standard Deviation:\",(population_std))\n",
    "print(\"z-critical :\",round(z_critical, 3))\n",
    "print(\"margin of error :\",round(margin_of_error, 3))\n",
    "print(\"99% Confidence Interval:{:.3f},{:.3f})\".format(lower_bound,upper_bound))"
   ]
  },
  {
   "cell_type": "code",
   "execution_count": null,
   "id": "0187a2f5",
   "metadata": {},
   "outputs": [],
   "source": []
  }
 ],
 "metadata": {
  "kernelspec": {
   "display_name": "Python 3 (ipykernel)",
   "language": "python",
   "name": "python3"
  },
  "language_info": {
   "codemirror_mode": {
    "name": "ipython",
    "version": 3
   },
   "file_extension": ".py",
   "mimetype": "text/x-python",
   "name": "python",
   "nbconvert_exporter": "python",
   "pygments_lexer": "ipython3",
   "version": "3.11.5"
  }
 },
 "nbformat": 4,
 "nbformat_minor": 5
}
