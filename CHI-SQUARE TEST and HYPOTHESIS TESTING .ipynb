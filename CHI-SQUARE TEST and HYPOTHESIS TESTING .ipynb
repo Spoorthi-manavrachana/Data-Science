{
 "cells": [
  {
   "cell_type": "code",
   "execution_count": 1,
   "id": "1d974f38",
   "metadata": {},
   "outputs": [],
   "source": [
    "#CHI-SQUARE TEST"
   ]
  },
  {
   "cell_type": "code",
   "execution_count": 2,
   "id": "0ce5000f",
   "metadata": {},
   "outputs": [],
   "source": [
    "# Import necessary libraries\n",
    "import numpy as np\n",
    "from scipy.stats import chi2_contingency,chi2\n",
    "import pandas as pd"
   ]
  },
  {
   "cell_type": "code",
   "execution_count": 3,
   "id": "74f31759",
   "metadata": {},
   "outputs": [],
   "source": [
    "# Step 1: Define the observed data (contingency table)\n",
    "observed = np.array([\n",
    "    [50, 70],  # Very Satisfied\n",
    "    [80, 100], # Satisfied\n",
    "    [60, 90],  # Neutral\n",
    "    [30, 50],  # Unsatisfied\n",
    "    [20, 50]   # Very Unsatisfied\n",
    "])"
   ]
  },
  {
   "cell_type": "code",
   "execution_count": 4,
   "id": "2e6f1660",
   "metadata": {},
   "outputs": [],
   "source": [
    "# Step 2: Perform the Chi-Square Test\n",
    "chi2_stat ,p_value, dof, expected = chi2_contingency(observed)"
   ]
  },
  {
   "cell_type": "code",
   "execution_count": 5,
   "id": "66fddf2b",
   "metadata": {},
   "outputs": [],
   "source": [
    "# Step 3: Calculate the Critical Value\n",
    "alpha = 0.05  # Significance level\n",
    "critical_value = chi2.ppf(1-alpha, dof)"
   ]
  },
  {
   "cell_type": "code",
   "execution_count": 6,
   "id": "55858629",
   "metadata": {},
   "outputs": [],
   "source": [
    "# Step 4: Make a Decision\n",
    "if chi2_stat > critical_value:\n",
    "    decision = \"Reject the null hypothesis (H0).\"\n",
    "else:\n",
    "    decision = \"Not to Reject the null hypoyhesis (H0).\""
   ]
  },
  {
   "cell_type": "code",
   "execution_count": 7,
   "id": "08f124a8",
   "metadata": {},
   "outputs": [
    {
     "name": "stdout",
     "output_type": "stream",
     "text": [
      "chi-squared test result\n",
      "=======================\n",
      "chi-squared satistics: 5.6382.\n",
      "p-value:0.2278.\n",
      "Degree of freedom : 4\n",
      "Critical value(α = 0.05): 9.4877.\n",
      "Decision : Not to Reject the null hypoyhesis (H0).\n"
     ]
    }
   ],
   "source": [
    "# Step 5: Display Results\n",
    "print(\"chi-squared test result\")\n",
    "print(\"=======================\")\n",
    "print(f\"chi-squared satistics: {chi2_stat:.4f}.\")\n",
    "print(f\"p-value:{p_value:.4f}.\")\n",
    "print(f\"Degree of freedom : {dof}\")\n",
    "print(f\"Critical value(α = {alpha}): {critical_value:.4f}.\")\n",
    "print(f\"Decision : {decision}\")"
   ]
  },
  {
   "cell_type": "code",
   "execution_count": 8,
   "id": "b4047a2d",
   "metadata": {},
   "outputs": [
    {
     "name": "stdout",
     "output_type": "stream",
     "text": [
      "Conclusion : There is not significant association between the type of device purchase and customer satisfaction level.\n"
     ]
    }
   ],
   "source": [
    "# Conclusion\n",
    "if chi2_stat > critical_value:\n",
    "    print(\"Conclusion :There is significant association between the type of device purchase and customer satisfaction level.\")\n",
    "else:\n",
    "    print(\"Conclusion : There is not significant association between the type of device purchase and customer satisfaction level.\")"
   ]
  },
  {
   "cell_type": "code",
   "execution_count": 9,
   "id": "e2dbae70",
   "metadata": {},
   "outputs": [],
   "source": [
    "# HYPOTHESIS TESTING"
   ]
  },
  {
   "cell_type": "code",
   "execution_count": 10,
   "id": "73e252bc",
   "metadata": {},
   "outputs": [],
   "source": [
    "# Step 1: State the Hypotheses\n",
    "# H0 (Null Hypothesis): The weekly operating cost follows the model (μ = $3,000).\n",
    "# Ha (Alternative Hypothesis): The weekly operating cost is higher than the model (μ > $3,000).\n",
    "import math\n",
    "from scipy.stats import norm\n",
    "import pandas as pd"
   ]
  },
  {
   "cell_type": "code",
   "execution_count": 11,
   "id": "8388870b",
   "metadata": {},
   "outputs": [],
   "source": [
    "# Step 2: Calculate the Theoretical Mean and Test Statistic\n",
    "# Given data\n",
    "sample_mean = 3050\n",
    "theritical_mean = 1000 + 5 * 600\n",
    "std_deviation = 5 * 25\n",
    "sample_size = 25"
   ]
  },
  {
   "cell_type": "code",
   "execution_count": 12,
   "id": "730135cb",
   "metadata": {},
   "outputs": [
    {
     "name": "stdout",
     "output_type": "stream",
     "text": [
      "Test statistics (t) : -38.0\n"
     ]
    }
   ],
   "source": [
    "# Test statistic formula: t = (x̄ - μ) / (σ / √n)\n",
    "test_statistics = (sample_mean - theritical_mean) / (std_deviation / math.sqrt(sample_size))\n",
    "print(\"Test statistics (t) :\", round(test_statistics, 2))"
   ]
  },
  {
   "cell_type": "code",
   "execution_count": 13,
   "id": "f80edd07",
   "metadata": {},
   "outputs": [
    {
     "name": "stdout",
     "output_type": "stream",
     "text": [
      "Critical value (z): 1.64\n"
     ]
    }
   ],
   "source": [
    "# Step 3: Determine the Critical Value\n",
    "# Significance level (alpha)\n",
    "alpha = 0.05\n",
    "# Critical value for a one-tailed test from Z-table\n",
    "critical_value = norm.ppf(1 - alpha)\n",
    "print(\"Critical value (z):\", round(critical_value, 2))"
   ]
  },
  {
   "cell_type": "code",
   "execution_count": 14,
   "id": "d923e0c3",
   "metadata": {},
   "outputs": [
    {
     "name": "stdout",
     "output_type": "stream",
     "text": [
      "Decision : Not to reject the null hypothesis (H0).\n"
     ]
    }
   ],
   "source": [
    "# Step 4: Make a Decision\n",
    "if test_statistics > critical_value:\n",
    "    decision = \"Reject the null hypothesis (H0).\"\n",
    "else:\n",
    "    decision = \"Not to reject the null hypothesis (H0).\"\n",
    "print(f\"Decision : {decision}\")"
   ]
  },
  {
   "cell_type": "code",
   "execution_count": 15,
   "id": "b0cef510",
   "metadata": {},
   "outputs": [
    {
     "name": "stdout",
     "output_type": "stream",
     "text": [
      "Conclusion :There is not enough evidence to support the claim that the weekly opeating costs are higher then the model suggests.\n"
     ]
    }
   ],
   "source": [
    "# Step 5: Conclusion\n",
    "if test_statistics > critical_value:\n",
    "    print(\"Conclusion :There is stroung evidence to support the claim that the weekly operating costs are higher than the model suggests.\")\n",
    "else:\n",
    "    print(\"Conclusion :There is not enough evidence to support the claim that the weekly opeating costs are higher then the model suggests.\")"
   ]
  },
  {
   "cell_type": "code",
   "execution_count": null,
   "id": "b85f4a5b",
   "metadata": {},
   "outputs": [],
   "source": []
  }
 ],
 "metadata": {
  "kernelspec": {
   "display_name": "Python 3 (ipykernel)",
   "language": "python",
   "name": "python3"
  },
  "language_info": {
   "codemirror_mode": {
    "name": "ipython",
    "version": 3
   },
   "file_extension": ".py",
   "mimetype": "text/x-python",
   "name": "python",
   "nbconvert_exporter": "python",
   "pygments_lexer": "ipython3",
   "version": "3.11.5"
  }
 },
 "nbformat": 4,
 "nbformat_minor": 5
}
